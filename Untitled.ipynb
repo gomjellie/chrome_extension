{
 "cells": [
  {
   "cell_type": "code",
   "execution_count": 5,
   "metadata": {
    "collapsed": false
   },
   "outputs": [
    {
     "name": "stdout",
     "output_type": "stream",
     "text": [
      "<string>Code</string>\n",
      "<string>af</string>\n",
      "<string>sq</string>\n",
      "<string>ar</string>\n",
      "<string>az</string>\n",
      "<string>eu</string>\n",
      "<string>bn</string>\n",
      "<string>be</string>\n",
      "<string>bg</string>\n",
      "<string>ca</string>\n",
      "<string>zh-CN</string>\n",
      "<string>zh-TW</string>\n",
      "<string>hr</string>\n",
      "<string>cs</string>\n",
      "<string>da</string>\n",
      "<string>nl</string>\n",
      "<string>en</string>\n",
      "<string>eo</string>\n",
      "<string>et</string>\n",
      "<string>tl</string>\n",
      "<string>fi</string>\n",
      "<string>fr</string>\n",
      "<string>gl</string>\n",
      "<string>ka</string>\n",
      "<string>de</string>\n",
      "<string>el</string>\n",
      "<string>gu</string>\n",
      "<string>ht</string>\n",
      "<string>iw</string>\n",
      "<string>hi</string>\n",
      "<string>hu</string>\n",
      "<string>is</string>\n",
      "<string>id</string>\n",
      "<string>Language Code</string>\n",
      "<string>ga</string>\n",
      "<string>it</string>\n",
      "<string>ja</string>\n",
      "<string>kn</string>\n",
      "<string>ko</string>\n",
      "<string>la</string>\n",
      "<string>lv</string>\n",
      "<string>lt</string>\n",
      "<string>mk</string>\n",
      "<string>ms</string>\n",
      "<string>mt</string>\n",
      "<string>no</string>\n",
      "<string>fa</string>\n",
      "<string>pl</string>\n",
      "<string>pt</string>\n",
      "<string>ro</string>\n",
      "<string>ru</string>\n",
      "<string>sr</string>\n",
      "<string>sk</string>\n",
      "<string>sl</string>\n",
      "<string>es</string>\n",
      "<string>sw</string>\n",
      "<string>sv</string>\n",
      "<string>ta</string>\n",
      "<string>te</string>\n",
      "<string>th</string>\n",
      "<string>tr</string>\n",
      "<string>uk</string>\n",
      "<string>ur</string>\n",
      "<string>vi</string>\n",
      "<string>cy</string>\n",
      "<string>yi</string>\n",
      "\n"
     ]
    }
   ],
   "source": [
    "\n",
    "import requests\n",
    "from bs4 import BeautifulSoup\n",
    "\n",
    "#code to get google translate language lists\n",
    "url = 'https://ctrlq.org/code/19899-google-translate-languages'\n",
    "r = requests.get(url)\n",
    "soup = BeautifulSoup(r.text, 'html.parser')\n",
    "table = soup.find('tbody')\n",
    "\n",
    "ret = \"\"\n",
    "ret2= \"\"\n",
    "for tr in table.find_all('tr'):\n",
    "    td = tr.find_all('td')\n",
    "    ret += \"<string>\" + td[1].text + \"</string>\\n\" #+ td[1].text + \"',\\n\"\n",
    "    ret2 += \"<string>\" + td[3].text + \"</string>\\n\" #+ td[3].text + \"',\\n\"\n",
    "\n",
    "res = ret + ret2\n",
    "print(res)\n"
   ]
  },
  {
   "cell_type": "code",
   "execution_count": null,
   "metadata": {
    "collapsed": true
   },
   "outputs": [],
   "source": []
  }
 ],
 "metadata": {
  "kernelspec": {
   "display_name": "Python 3",
   "language": "python",
   "name": "python3"
  },
  "language_info": {
   "codemirror_mode": {
    "name": "ipython",
    "version": 3
   },
   "file_extension": ".py",
   "mimetype": "text/x-python",
   "name": "python",
   "nbconvert_exporter": "python",
   "pygments_lexer": "ipython3",
   "version": "3.5.2"
  }
 },
 "nbformat": 4,
 "nbformat_minor": 2
}
